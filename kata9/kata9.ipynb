{
 "cells": [
  {
   "cell_type": "code",
   "execution_count": 23,
   "metadata": {},
   "outputs": [
    {
     "name": "stdout",
     "output_type": "stream",
     "text": [
      "\n",
      "    Estatus de combustible\n",
      "    Promedio: 68.33333333333333%\n",
      "    Nivel del Tanque 2: 60%\n",
      "    Nivel del Tanque 3: 55% \n",
      "    Nivel del Tanque 1: 90%\n",
      "    \n",
      "\n",
      "    Estatus de combustible con (función actulizada)\n",
      "    Promedio: 68.33333333333333%\n",
      "    Nivel del Tanque 2: 60%\n",
      "    Nivel del Tanque 3: 55% \n",
      "    Nivel del Tanque 1: 90%\n",
      "    \n"
     ]
    }
   ],
   "source": [
    "def revisa_tanques(t1,t2,t3):\n",
    "    promedio = (t1+t2+t3)/3\n",
    "    return f\"\"\"\n",
    "    Estatus de combustible\n",
    "    Promedio: {promedio}%\n",
    "    Nivel del Tanque 2: {t2}%\n",
    "    Nivel del Tanque 3: {t3}% \n",
    "    Nivel del Tanque 1: {t1}%\n",
    "    \"\"\"\n",
    "# Llamamos a la función que genera el reporte print(funcion(tanque1, tanque2, tanque3))\n",
    "print(revisa_tanques(90, 60, 55))\n",
    "\n",
    "def fpromedio(v):\n",
    "    return (sum(v)/len(v))\n",
    "\n",
    "\n",
    "\n",
    "def revisa_tanques2(t1,t2,t3):\n",
    "    \n",
    "    return f\"\"\"\n",
    "    Estatus de combustible con (función actulizada)\n",
    "    Promedio: {fpromedio([t1,t2,t3])}%\n",
    "    Nivel del Tanque 2: {t2}%\n",
    "    Nivel del Tanque 3: {t3}% \n",
    "    Nivel del Tanque 1: {t1}%\n",
    "    \"\"\"\n",
    "\n",
    "print(revisa_tanques2(90, 60, 55))\n"
   ]
  },
  {
   "cell_type": "markdown",
   "metadata": {},
   "source": [
    "## Ejercicio 2"
   ]
  },
  {
   "cell_type": "code",
   "execution_count": 12,
   "metadata": {},
   "outputs": [
    {
     "name": "stdout",
     "output_type": "stream",
     "text": [
      "\n",
      "    Mision a: Moon\n",
      "    Minutos de viaje: 65 minutos\n",
      "    Total de combustible: 500000 galones\n",
      "    \n",
      "\n",
      "    Mision a Mars\n",
      "    Minutos de viaje: 4 minutes\n",
      "    Combustible : 500000\n",
      "    \n"
     ]
    }
   ],
   "source": [
    "# Función con un informe preciso de la misión. Considera hora de prelanzamiento, tiempo de vuelo, destino, tanque externo y tanque interno\n",
    "def reporte(tiempo_prelanzamiento, tiempo_vuelo, destino, tanque_externo, tanque_principal):\n",
    "    return f\"\"\"\n",
    "    Mision a: {destino}\n",
    "    Minutos de viaje: {tiempo_prelanzamiento + tiempo_vuelo} minutos\n",
    "    Total de combustible: {tanque_externo +tanque_principal} galones\n",
    "    \"\"\"\n",
    "\n",
    "print(reporte(14, 51, \"Moon\", 200000, 300000))\n",
    "\n",
    "##\n",
    "# Escribe tu nueva función de reporte considerando lo anterior\n",
    "\n",
    "def reporte2(destination, *minutes, **fuel_reservoirs):\n",
    "    return f\"\"\"\n",
    "    Mision a {destination}\n",
    "    Minutos de viaje: {sum(minutes)} minutes\n",
    "    Combustible : {sum(fuel_reservoirs.values())}\n",
    "    \"\"\"\n",
    "\n",
    "print(reporte2(\"Mars\", 1, 1, 1, 1, main=300000, external=200000))\n",
    "\n"
   ]
  },
  {
   "cell_type": "code",
   "execution_count": 22,
   "metadata": {},
   "outputs": [
    {
     "name": "stdout",
     "output_type": "stream",
     "text": [
      "\n",
      "    mision a: Moon\n",
      "    Total travel time: 74 minutos\n",
      "    Total fuel left: 500000\n",
      "    tanque1: 300000 galones \n",
      "    tanque2: 200000 galones \n",
      "    \n"
     ]
    }
   ],
   "source": [
    "def reporte3(destino, *minutos, **reservas):\n",
    "    main_report = f\"\"\"\n",
    "    mision a: {destino}\n",
    "    Total travel time: {sum(minutos)} minutos\n",
    "    Total fuel left: {sum(reservas.values())}\n",
    "    \"\"\"\n",
    "    for tank_name, gallons in reservas.items():\n",
    "        main_report += f\"{tank_name}: {gallons} galones \\n    \"\n",
    "    return main_report\n",
    "\n",
    "print(reporte3(\"Moon\", 8, 11, 55, tanque1=300000,  tanque2=200000))\n",
    "\n"
   ]
  },
  {
   "cell_type": "code",
   "execution_count": null,
   "metadata": {},
   "outputs": [],
   "source": []
  }
 ],
 "metadata": {
  "interpreter": {
   "hash": "4b3dfa2d5854906a8621bf52075e58e093c2031a6ca4a309983e9eb3fc881a10"
  },
  "kernelspec": {
   "display_name": "Python 3.9.5 64-bit",
   "language": "python",
   "name": "python3"
  },
  "language_info": {
   "codemirror_mode": {
    "name": "ipython",
    "version": 3
   },
   "file_extension": ".py",
   "mimetype": "text/x-python",
   "name": "python",
   "nbconvert_exporter": "python",
   "pygments_lexer": "ipython3",
   "version": "3.9.5"
  },
  "orig_nbformat": 4
 },
 "nbformat": 4,
 "nbformat_minor": 2
}
