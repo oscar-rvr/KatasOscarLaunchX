{
 "cells": [
  {
   "cell_type": "markdown",
   "metadata": {},
   "source": [
    "## ejercicio 1"
   ]
  },
  {
   "cell_type": "code",
   "execution_count": 1,
   "metadata": {},
   "outputs": [
    {
     "name": "stdout",
     "output_type": "stream",
     "text": [
      "There are 8 planets\n",
      "There are 9 planets\n",
      "ultimo elemento de la lista:  plutón\n"
     ]
    }
   ],
   "source": [
    "# Creamos la lista planets y la mostramos\n",
    "planets = ['Mercury', 'Venus', 'Earth', 'Mars', 'Jupiter', 'Saturn', 'Uranus', 'Neptune']\n",
    "\n",
    "print('There are', len(planets), 'planets')\n",
    "# Agregamos a plutón y mostramos el último elemento\n",
    "\n",
    "\n",
    "planets.append(\"plutón\")\n",
    "\n",
    "print('There are', len(planets), 'planets')\n",
    "# Agregamos a plutón y mostramos el último elemento\n",
    "print(\"ultimo elemento de la lista: \",planets[len(planets)-1])\n"
   ]
  },
  {
   "cell_type": "markdown",
   "metadata": {},
   "source": [
    "## ejercicio 2"
   ]
  },
  {
   "cell_type": "code",
   "execution_count": 4,
   "metadata": {},
   "outputs": [
    {
     "name": "stdout",
     "output_type": "stream",
     "text": [
      "Aqui estan los planetas mas cerca a Mercury\n",
      "[]\n",
      "Aqui estan los planetas menos cerca a Mercury\n",
      "['Venus', 'Earth', 'Mars', 'Jupiter', 'Saturn', 'Neptune']\n"
     ]
    }
   ],
   "source": [
    "# Lista de planetas\n",
    "planets = ['Mercury', 'Venus', 'Earth', 'Mars', 'Jupiter', 'Saturn', 'Neptune']\n",
    "\n",
    "opc = input(\"ingrese el nombre de algun planeta\")\n",
    "\n",
    "index = planets.index(opc)\n",
    "\n",
    "print(\"Aqui estan los planetas mas cerca a \"+opc )\n",
    "print(planets[0:index])\n",
    "\n",
    "print(f'Aqui estan los planetas menos cerca a '+opc  )\n",
    "print(planets[index + 1:])\n"
   ]
  },
  {
   "cell_type": "code",
   "execution_count": null,
   "metadata": {},
   "outputs": [],
   "source": []
  }
 ],
 "metadata": {
  "interpreter": {
   "hash": "4b3dfa2d5854906a8621bf52075e58e093c2031a6ca4a309983e9eb3fc881a10"
  },
  "kernelspec": {
   "display_name": "Python 3.9.5 64-bit",
   "language": "python",
   "name": "python3"
  },
  "language_info": {
   "codemirror_mode": {
    "name": "ipython",
    "version": 3
   },
   "file_extension": ".py",
   "mimetype": "text/x-python",
   "name": "python",
   "nbconvert_exporter": "python",
   "pygments_lexer": "ipython3",
   "version": "3.9.5"
  },
  "orig_nbformat": 4
 },
 "nbformat": 4,
 "nbformat_minor": 2
}
