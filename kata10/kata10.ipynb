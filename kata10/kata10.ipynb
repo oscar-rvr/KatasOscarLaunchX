{
 "cells": [
  {
   "cell_type": "markdown",
   "metadata": {},
   "source": [
    "## kata 10"
   ]
  },
  {
   "cell_type": "code",
   "execution_count": 3,
   "metadata": {},
   "outputs": [
    {
     "data": {
      "text/plain": [
       "'Total water left after 2 days is: -10 liters'"
      ]
     },
     "execution_count": 3,
     "metadata": {},
     "output_type": "execute_result"
    }
   ],
   "source": [
    "def water_left(astronauts, water_left, days_left):\n",
    "    daily_usage = astronauts * 11\n",
    "    total_usage = daily_usage * days_left\n",
    "    total_water_left = water_left - total_usage\n",
    "    return f\"Total water left after {days_left} days is: {total_water_left} liters\"\n",
    "\n",
    "water_left(5, 100, 2)\n"
   ]
  },
  {
   "cell_type": "code",
   "execution_count": 12,
   "metadata": {},
   "outputs": [
    {
     "ename": "NameError",
     "evalue": "name 'alert_navigation_system' is not defined",
     "output_type": "error",
     "traceback": [
      "\u001b[1;31m---------------------------------------------------------------------------\u001b[0m",
      "\u001b[1;31mRuntimeError\u001b[0m                              Traceback (most recent call last)",
      "\u001b[1;32mc:\\Users\\tato-\\OneDrive - Instituto Tecnológico de Ciudad Guzmán\\INNOVACCION\\kata10\\kata10.ipynb Cell 3'\u001b[0m in \u001b[0;36m<module>\u001b[1;34m\u001b[0m\n\u001b[0;32m     <a href='vscode-notebook-cell:/c%3A/Users/tato-/OneDrive%20-%20Instituto%20Tecnol%C3%B3gico%20de%20Ciudad%20Guzm%C3%A1n/INNOVACCION/kata10/kata10.ipynb#ch0000002?line=9'>10</a>\u001b[0m \u001b[39mtry\u001b[39;00m:\n\u001b[1;32m---> <a href='vscode-notebook-cell:/c%3A/Users/tato-/OneDrive%20-%20Instituto%20Tecnol%C3%B3gico%20de%20Ciudad%20Guzm%C3%A1n/INNOVACCION/kata10/kata10.ipynb#ch0000002?line=10'>11</a>\u001b[0m     water_left(\u001b[39m5\u001b[39;49m, \u001b[39m100\u001b[39;49m, \u001b[39m2\u001b[39;49m)\n\u001b[0;32m     <a href='vscode-notebook-cell:/c%3A/Users/tato-/OneDrive%20-%20Instituto%20Tecnol%C3%B3gico%20de%20Ciudad%20Guzm%C3%A1n/INNOVACCION/kata10/kata10.ipynb#ch0000002?line=11'>12</a>\u001b[0m \u001b[39mexcept\u001b[39;00m \u001b[39mRuntimeError\u001b[39;00m \u001b[39mas\u001b[39;00m err:\n",
      "\u001b[1;32mc:\\Users\\tato-\\OneDrive - Instituto Tecnológico de Ciudad Guzmán\\INNOVACCION\\kata10\\kata10.ipynb Cell 3'\u001b[0m in \u001b[0;36mwater_left\u001b[1;34m(astronauts, water_left, days_left)\u001b[0m\n\u001b[0;32m      <a href='vscode-notebook-cell:/c%3A/Users/tato-/OneDrive%20-%20Instituto%20Tecnol%C3%B3gico%20de%20Ciudad%20Guzm%C3%A1n/INNOVACCION/kata10/kata10.ipynb#ch0000002?line=4'>5</a>\u001b[0m \u001b[39mif\u001b[39;00m total_water_left \u001b[39m<\u001b[39m \u001b[39m0\u001b[39m:\n\u001b[1;32m----> <a href='vscode-notebook-cell:/c%3A/Users/tato-/OneDrive%20-%20Instituto%20Tecnol%C3%B3gico%20de%20Ciudad%20Guzm%C3%A1n/INNOVACCION/kata10/kata10.ipynb#ch0000002?line=5'>6</a>\u001b[0m     \u001b[39mraise\u001b[39;00m \u001b[39mRuntimeError\u001b[39;00m(\u001b[39mf\u001b[39m\u001b[39m\"\u001b[39m\u001b[39mThere is not enough water for \u001b[39m\u001b[39m{\u001b[39;00mastronauts\u001b[39m}\u001b[39;00m\u001b[39m astronauts after \u001b[39m\u001b[39m{\u001b[39;00mdays_left\u001b[39m}\u001b[39;00m\u001b[39m days!\u001b[39m\u001b[39m\"\u001b[39m)\n\u001b[0;32m      <a href='vscode-notebook-cell:/c%3A/Users/tato-/OneDrive%20-%20Instituto%20Tecnol%C3%B3gico%20de%20Ciudad%20Guzm%C3%A1n/INNOVACCION/kata10/kata10.ipynb#ch0000002?line=6'>7</a>\u001b[0m \u001b[39mreturn\u001b[39;00m \u001b[39mf\u001b[39m\u001b[39m\"\u001b[39m\u001b[39mTotal water left after \u001b[39m\u001b[39m{\u001b[39;00mdays_left\u001b[39m}\u001b[39;00m\u001b[39m days is: \u001b[39m\u001b[39m{\u001b[39;00mtotal_water_left\u001b[39m}\u001b[39;00m\u001b[39m liters\u001b[39m\u001b[39m\"\u001b[39m\n",
      "\u001b[1;31mRuntimeError\u001b[0m: There is not enough water for 5 astronauts after 2 days!",
      "\nDuring handling of the above exception, another exception occurred:\n",
      "\u001b[1;31mNameError\u001b[0m                                 Traceback (most recent call last)",
      "\u001b[1;32mc:\\Users\\tato-\\OneDrive - Instituto Tecnológico de Ciudad Guzmán\\INNOVACCION\\kata10\\kata10.ipynb Cell 3'\u001b[0m in \u001b[0;36m<module>\u001b[1;34m\u001b[0m\n\u001b[0;32m     <a href='vscode-notebook-cell:/c%3A/Users/tato-/OneDrive%20-%20Instituto%20Tecnol%C3%B3gico%20de%20Ciudad%20Guzm%C3%A1n/INNOVACCION/kata10/kata10.ipynb#ch0000002?line=10'>11</a>\u001b[0m     water_left(\u001b[39m5\u001b[39m, \u001b[39m100\u001b[39m, \u001b[39m2\u001b[39m)\n\u001b[0;32m     <a href='vscode-notebook-cell:/c%3A/Users/tato-/OneDrive%20-%20Instituto%20Tecnol%C3%B3gico%20de%20Ciudad%20Guzm%C3%A1n/INNOVACCION/kata10/kata10.ipynb#ch0000002?line=11'>12</a>\u001b[0m \u001b[39mexcept\u001b[39;00m \u001b[39mRuntimeError\u001b[39;00m \u001b[39mas\u001b[39;00m err:\n\u001b[1;32m---> <a href='vscode-notebook-cell:/c%3A/Users/tato-/OneDrive%20-%20Instituto%20Tecnol%C3%B3gico%20de%20Ciudad%20Guzm%C3%A1n/INNOVACCION/kata10/kata10.ipynb#ch0000002?line=12'>13</a>\u001b[0m     alert_navigation_system(err)\n\u001b[0;32m     <a href='vscode-notebook-cell:/c%3A/Users/tato-/OneDrive%20-%20Instituto%20Tecnol%C3%B3gico%20de%20Ciudad%20Guzm%C3%A1n/INNOVACCION/kata10/kata10.ipynb#ch0000002?line=15'>16</a>\u001b[0m water_left(\u001b[39m5\u001b[39m, \u001b[39m100\u001b[39m, \u001b[39m2\u001b[39m)\n\u001b[0;32m     <a href='vscode-notebook-cell:/c%3A/Users/tato-/OneDrive%20-%20Instituto%20Tecnol%C3%B3gico%20de%20Ciudad%20Guzm%C3%A1n/INNOVACCION/kata10/kata10.ipynb#ch0000002?line=16'>17</a>\u001b[0m water_left(\u001b[39m\"\u001b[39m\u001b[39m3\u001b[39m\u001b[39m\"\u001b[39m, \u001b[39m\"\u001b[39m\u001b[39m200\u001b[39m\u001b[39m\"\u001b[39m, \u001b[39mNone\u001b[39;00m)\n",
      "\u001b[1;31mNameError\u001b[0m: name 'alert_navigation_system' is not defined"
     ]
    }
   ],
   "source": [
    "def water_left(astronauts, water_left, days_left):\n",
    "    daily_usage = astronauts * 11\n",
    "    total_usage = daily_usage * days_left\n",
    "    total_water_left = water_left - total_usage\n",
    "    if total_water_left < 0:\n",
    "        raise RuntimeError(f\"There is not enough water for {astronauts} astronauts after {days_left} days!\")\n",
    "    return f\"Total water left after {days_left} days is: {total_water_left} liters\"\n",
    "\n",
    "\n",
    "# try:\n",
    "#     water_left(5, 100, 2)\n",
    "# except RuntimeError as err:\n",
    "#     alert_navigation_system(err)\n",
    "\n",
    "\n",
    "water_left(5, 100, 2)\n",
    "water_left(\"3\", \"200\", None)\n",
    "\n"
   ]
  },
  {
   "cell_type": "code",
   "execution_count": 11,
   "metadata": {},
   "outputs": [
    {
     "ename": "TypeError",
     "evalue": "All arguments must be of type int, but received: '3'",
     "output_type": "error",
     "traceback": [
      "\u001b[1;31m---------------------------------------------------------------------------\u001b[0m",
      "\u001b[1;31mTypeError\u001b[0m                                 Traceback (most recent call last)",
      "\u001b[1;32mc:\\Users\\tato-\\OneDrive - Instituto Tecnológico de Ciudad Guzmán\\INNOVACCION\\kata10\\kata10.ipynb Cell 4'\u001b[0m in \u001b[0;36mwater_left\u001b[1;34m(astronauts, water_left, days_left)\u001b[0m\n\u001b[0;32m      <a href='vscode-notebook-cell:/c%3A/Users/tato-/OneDrive%20-%20Instituto%20Tecnol%C3%B3gico%20de%20Ciudad%20Guzm%C3%A1n/INNOVACCION/kata10/kata10.ipynb#ch0000003?line=2'>3</a>\u001b[0m \u001b[39mtry\u001b[39;00m:\n\u001b[0;32m      <a href='vscode-notebook-cell:/c%3A/Users/tato-/OneDrive%20-%20Instituto%20Tecnol%C3%B3gico%20de%20Ciudad%20Guzm%C3%A1n/INNOVACCION/kata10/kata10.ipynb#ch0000003?line=3'>4</a>\u001b[0m     \u001b[39m# If argument is an int, the following operation will work\u001b[39;00m\n\u001b[1;32m----> <a href='vscode-notebook-cell:/c%3A/Users/tato-/OneDrive%20-%20Instituto%20Tecnol%C3%B3gico%20de%20Ciudad%20Guzm%C3%A1n/INNOVACCION/kata10/kata10.ipynb#ch0000003?line=4'>5</a>\u001b[0m     argument \u001b[39m/\u001b[39;49m \u001b[39m10\u001b[39;49m\n\u001b[0;32m      <a href='vscode-notebook-cell:/c%3A/Users/tato-/OneDrive%20-%20Instituto%20Tecnol%C3%B3gico%20de%20Ciudad%20Guzm%C3%A1n/INNOVACCION/kata10/kata10.ipynb#ch0000003?line=5'>6</a>\u001b[0m \u001b[39mexcept\u001b[39;00m \u001b[39mTypeError\u001b[39;00m:\n\u001b[0;32m      <a href='vscode-notebook-cell:/c%3A/Users/tato-/OneDrive%20-%20Instituto%20Tecnol%C3%B3gico%20de%20Ciudad%20Guzm%C3%A1n/INNOVACCION/kata10/kata10.ipynb#ch0000003?line=6'>7</a>\u001b[0m     \u001b[39m# TypError will be raised only if it isn't the right type \u001b[39;00m\n\u001b[0;32m      <a href='vscode-notebook-cell:/c%3A/Users/tato-/OneDrive%20-%20Instituto%20Tecnol%C3%B3gico%20de%20Ciudad%20Guzm%C3%A1n/INNOVACCION/kata10/kata10.ipynb#ch0000003?line=7'>8</a>\u001b[0m     \u001b[39m# Raise the same exception but with a better error message\u001b[39;00m\n",
      "\u001b[1;31mTypeError\u001b[0m: unsupported operand type(s) for /: 'str' and 'int'",
      "\nDuring handling of the above exception, another exception occurred:\n",
      "\u001b[1;31mTypeError\u001b[0m                                 Traceback (most recent call last)",
      "\u001b[1;32mc:\\Users\\tato-\\OneDrive - Instituto Tecnológico de Ciudad Guzmán\\INNOVACCION\\kata10\\kata10.ipynb Cell 4'\u001b[0m in \u001b[0;36m<module>\u001b[1;34m\u001b[0m\n\u001b[0;32m     <a href='vscode-notebook-cell:/c%3A/Users/tato-/OneDrive%20-%20Instituto%20Tecnol%C3%B3gico%20de%20Ciudad%20Guzm%C3%A1n/INNOVACCION/kata10/kata10.ipynb#ch0000003?line=13'>14</a>\u001b[0m         \u001b[39mraise\u001b[39;00m \u001b[39mRuntimeError\u001b[39;00m(\u001b[39mf\u001b[39m\u001b[39m\"\u001b[39m\u001b[39mThere is not enough water for \u001b[39m\u001b[39m{\u001b[39;00mastronauts\u001b[39m}\u001b[39;00m\u001b[39m astronauts after \u001b[39m\u001b[39m{\u001b[39;00mdays_left\u001b[39m}\u001b[39;00m\u001b[39m days!\u001b[39m\u001b[39m\"\u001b[39m)\n\u001b[0;32m     <a href='vscode-notebook-cell:/c%3A/Users/tato-/OneDrive%20-%20Instituto%20Tecnol%C3%B3gico%20de%20Ciudad%20Guzm%C3%A1n/INNOVACCION/kata10/kata10.ipynb#ch0000003?line=14'>15</a>\u001b[0m     \u001b[39mreturn\u001b[39;00m \u001b[39mf\u001b[39m\u001b[39m\"\u001b[39m\u001b[39mTotal water left after \u001b[39m\u001b[39m{\u001b[39;00mdays_left\u001b[39m}\u001b[39;00m\u001b[39m days is: \u001b[39m\u001b[39m{\u001b[39;00mtotal_water_left\u001b[39m}\u001b[39;00m\u001b[39m liters\u001b[39m\u001b[39m\"\u001b[39m\n\u001b[1;32m---> <a href='vscode-notebook-cell:/c%3A/Users/tato-/OneDrive%20-%20Instituto%20Tecnol%C3%B3gico%20de%20Ciudad%20Guzm%C3%A1n/INNOVACCION/kata10/kata10.ipynb#ch0000003?line=16'>17</a>\u001b[0m water_left(\u001b[39m\"\u001b[39;49m\u001b[39m3\u001b[39;49m\u001b[39m\"\u001b[39;49m, \u001b[39m\"\u001b[39;49m\u001b[39m200\u001b[39;49m\u001b[39m\"\u001b[39;49m, \u001b[39mNone\u001b[39;49;00m)\n",
      "\u001b[1;32mc:\\Users\\tato-\\OneDrive - Instituto Tecnológico de Ciudad Guzmán\\INNOVACCION\\kata10\\kata10.ipynb Cell 4'\u001b[0m in \u001b[0;36mwater_left\u001b[1;34m(astronauts, water_left, days_left)\u001b[0m\n\u001b[0;32m      <a href='vscode-notebook-cell:/c%3A/Users/tato-/OneDrive%20-%20Instituto%20Tecnol%C3%B3gico%20de%20Ciudad%20Guzm%C3%A1n/INNOVACCION/kata10/kata10.ipynb#ch0000003?line=4'>5</a>\u001b[0m         argument \u001b[39m/\u001b[39m \u001b[39m10\u001b[39m\n\u001b[0;32m      <a href='vscode-notebook-cell:/c%3A/Users/tato-/OneDrive%20-%20Instituto%20Tecnol%C3%B3gico%20de%20Ciudad%20Guzm%C3%A1n/INNOVACCION/kata10/kata10.ipynb#ch0000003?line=5'>6</a>\u001b[0m     \u001b[39mexcept\u001b[39;00m \u001b[39mTypeError\u001b[39;00m:\n\u001b[0;32m      <a href='vscode-notebook-cell:/c%3A/Users/tato-/OneDrive%20-%20Instituto%20Tecnol%C3%B3gico%20de%20Ciudad%20Guzm%C3%A1n/INNOVACCION/kata10/kata10.ipynb#ch0000003?line=6'>7</a>\u001b[0m         \u001b[39m# TypError will be raised only if it isn't the right type \u001b[39;00m\n\u001b[0;32m      <a href='vscode-notebook-cell:/c%3A/Users/tato-/OneDrive%20-%20Instituto%20Tecnol%C3%B3gico%20de%20Ciudad%20Guzm%C3%A1n/INNOVACCION/kata10/kata10.ipynb#ch0000003?line=7'>8</a>\u001b[0m         \u001b[39m# Raise the same exception but with a better error message\u001b[39;00m\n\u001b[1;32m----> <a href='vscode-notebook-cell:/c%3A/Users/tato-/OneDrive%20-%20Instituto%20Tecnol%C3%B3gico%20de%20Ciudad%20Guzm%C3%A1n/INNOVACCION/kata10/kata10.ipynb#ch0000003?line=8'>9</a>\u001b[0m         \u001b[39mraise\u001b[39;00m \u001b[39mTypeError\u001b[39;00m(\u001b[39mf\u001b[39m\u001b[39m\"\u001b[39m\u001b[39mAll arguments must be of type int, but received: \u001b[39m\u001b[39m'\u001b[39m\u001b[39m{\u001b[39;00margument\u001b[39m}\u001b[39;00m\u001b[39m'\u001b[39m\u001b[39m\"\u001b[39m)\n\u001b[0;32m     <a href='vscode-notebook-cell:/c%3A/Users/tato-/OneDrive%20-%20Instituto%20Tecnol%C3%B3gico%20de%20Ciudad%20Guzm%C3%A1n/INNOVACCION/kata10/kata10.ipynb#ch0000003?line=9'>10</a>\u001b[0m daily_usage \u001b[39m=\u001b[39m astronauts \u001b[39m*\u001b[39m \u001b[39m11\u001b[39m\n\u001b[0;32m     <a href='vscode-notebook-cell:/c%3A/Users/tato-/OneDrive%20-%20Instituto%20Tecnol%C3%B3gico%20de%20Ciudad%20Guzm%C3%A1n/INNOVACCION/kata10/kata10.ipynb#ch0000003?line=10'>11</a>\u001b[0m total_usage \u001b[39m=\u001b[39m daily_usage \u001b[39m*\u001b[39m days_left\n",
      "\u001b[1;31mTypeError\u001b[0m: All arguments must be of type int, but received: '3'"
     ]
    }
   ],
   "source": [
    "def water_left(astronauts, water_left, days_left):\n",
    "    for argument in [astronauts, water_left, days_left]:\n",
    "        try:\n",
    "            # If argument is an int, the following operation will work\n",
    "            argument / 10\n",
    "        except TypeError:\n",
    "            # TypError will be raised only if it isn't the right type \n",
    "            # Raise the same exception but with a better error message\n",
    "            raise TypeError(f\"All arguments must be of type int, but received: '{argument}'\")\n",
    "    daily_usage = astronauts * 11\n",
    "    total_usage = daily_usage * days_left\n",
    "    total_water_left = water_left - total_usage\n",
    "    if total_water_left < 0:\n",
    "        raise RuntimeError(f\"There is not enough water for {astronauts} astronauts after {days_left} days!\")\n",
    "    return f\"Total water left after {days_left} days is: {total_water_left} liters\"\n",
    "\n",
    "water_left(\"3\", \"200\", None)"
   ]
  },
  {
   "cell_type": "code",
   "execution_count": null,
   "metadata": {},
   "outputs": [],
   "source": []
  }
 ],
 "metadata": {
  "interpreter": {
   "hash": "4b3dfa2d5854906a8621bf52075e58e093c2031a6ca4a309983e9eb3fc881a10"
  },
  "kernelspec": {
   "display_name": "Python 3.9.5 64-bit",
   "language": "python",
   "name": "python3"
  },
  "language_info": {
   "codemirror_mode": {
    "name": "ipython",
    "version": 3
   },
   "file_extension": ".py",
   "mimetype": "text/x-python",
   "name": "python",
   "nbconvert_exporter": "python",
   "pygments_lexer": "ipython3",
   "version": "3.9.5"
  },
  "orig_nbformat": 4
 },
 "nbformat": 4,
 "nbformat_minor": 2
}
