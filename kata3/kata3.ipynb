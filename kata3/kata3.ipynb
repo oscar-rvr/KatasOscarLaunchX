{
 "cells": [
  {
   "cell_type": "markdown",
   "metadata": {},
   "source": [
    "## Ejercicio 1"
   ]
  },
  {
   "cell_type": "code",
   "execution_count": 6,
   "metadata": {},
   "outputs": [
    {
     "name": "stdout",
     "output_type": "stream",
     "text": [
      "¡WARNING! ASTEROID APPROACHING AT SPEED OF  49  km/s\n"
     ]
    }
   ],
   "source": [
    "# Añadir el código necesario para crear una variable que guarde la velocidad del asteroide.\n",
    "asteroid_speed = 49\n",
    "# Escribe una expresión de prueba para calcular si necesita una advertencia.\n",
    "# Agregue las instrucciones que se ejecutarán si la expresión de prueba es true o false.\n",
    "if asteroid_speed > 25:\n",
    "    print(\"¡WARNING! ASTEROID APPROACHING AT SPEED OF \",asteroid_speed,\" km/s\")\n",
    "else:\n",
    "    print(\"It is a normal day :)\")"
   ]
  },
  {
   "cell_type": "markdown",
   "metadata": {},
   "source": [
    "## Ejercicio 2"
   ]
  },
  {
   "cell_type": "code",
   "execution_count": 7,
   "metadata": {},
   "outputs": [
    {
     "name": "stdout",
     "output_type": "stream",
     "text": [
      "THERE IS JUST ANOTHER NORMAL DAY\n"
     ]
    }
   ],
   "source": [
    "# Agrega el código para crear una variable para un asteroide que viaja a 19 km/s\n",
    "asteroid_speed= 19\n",
    "# Escribe varias expresiones de prueba para determinar si puedes ver el rayo de luz desde la tierra\n",
    "# Agrega las instrucciones que se ejecutarán si las expresiones de prueba son True o False\n",
    "if asteroid_speed >= 20:\n",
    "    print(\"LOOK AT THE SKY MAYBE THERE IS SOMETHING INTERESTING THERE\")\n",
    "else:\n",
    "    print(\"THERE IS JUST ANOTHER NORMAL DAY\")\n"
   ]
  },
  {
   "cell_type": "markdown",
   "metadata": {},
   "source": [
    "## Ejercicio 3"
   ]
  },
  {
   "cell_type": "code",
   "execution_count": 47,
   "metadata": {},
   "outputs": [
    {
     "name": "stdout",
     "output_type": "stream",
     "text": [
      "LOOK AT THE SKY MAYBE THERE IS SOMETHING INTERESTING THERE\n"
     ]
    }
   ],
   "source": [
    "# Agrega el código para crear nuevas variables para la velocidad y el tamaño del asteroide\n",
    "# Para probar el código, prueba con varias velocidades y tamaños\n",
    "# Escribe varias expresiones de prueba o combinaciones de expresiones de prueba para determinar qué mensaje se debe enviar a Tierra.\n",
    "asteroid_speed=25\n",
    "asteroid_size=26\n",
    "\n",
    "if asteroid_size >25 and asteroid_speed>25:\n",
    "    print(\"DANGER THERE IS AN ASTEROID APPROACHING!!\")\n",
    "elif asteroid_speed >=20:\n",
    "    print(\"LOOK AT THE SKY MAYBE THERE IS SOMETHING INTERESTING THERE\")\n",
    "elif  asteroid_size <25:\n",
    "    print(\"IT'S JUST ANOTHER BORING DAY\")\n",
    "else:\n",
    "     print(\"IT'S JUST ANOTHER BORING DAY\")\n",
    "\n",
    "\n",
    "\n"
   ]
  },
  {
   "cell_type": "code",
   "execution_count": null,
   "metadata": {},
   "outputs": [],
   "source": []
  }
 ],
 "metadata": {
  "interpreter": {
   "hash": "4b3dfa2d5854906a8621bf52075e58e093c2031a6ca4a309983e9eb3fc881a10"
  },
  "kernelspec": {
   "display_name": "Python 3.9.5 64-bit",
   "language": "python",
   "name": "python3"
  },
  "language_info": {
   "codemirror_mode": {
    "name": "ipython",
    "version": 3
   },
   "file_extension": ".py",
   "mimetype": "text/x-python",
   "name": "python",
   "nbconvert_exporter": "python",
   "pygments_lexer": "ipython3",
   "version": "3.9.5"
  },
  "orig_nbformat": 4
 },
 "nbformat": 4,
 "nbformat_minor": 2
}
